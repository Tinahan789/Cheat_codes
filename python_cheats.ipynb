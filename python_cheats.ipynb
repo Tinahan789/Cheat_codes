{
 "cells": [
  {
   "cell_type": "code",
   "execution_count": 1,
   "metadata": {},
   "outputs": [],
   "source": [
    "import numpy as np\n",
    "import pandas as pd\n",
    "from dateutil import rrule\n",
    "import os\n",
    "# join path\n",
    "# os.path.join()"
   ]
  },
  {
   "cell_type": "code",
   "execution_count": 2,
   "metadata": {},
   "outputs": [
    {
     "name": "stdout",
     "output_type": "stream",
     "text": [
      "(12, 3)\n"
     ]
    },
    {
     "data": {
      "text/html": [
       "<div>\n",
       "<style scoped>\n",
       "    .dataframe tbody tr th:only-of-type {\n",
       "        vertical-align: middle;\n",
       "    }\n",
       "\n",
       "    .dataframe tbody tr th {\n",
       "        vertical-align: top;\n",
       "    }\n",
       "\n",
       "    .dataframe thead th {\n",
       "        text-align: right;\n",
       "    }\n",
       "</style>\n",
       "<table border=\"1\" class=\"dataframe\">\n",
       "  <thead>\n",
       "    <tr style=\"text-align: right;\">\n",
       "      <th></th>\n",
       "      <th>type</th>\n",
       "      <th>weight</th>\n",
       "    </tr>\n",
       "  </thead>\n",
       "  <tbody>\n",
       "    <tr>\n",
       "      <th>0</th>\n",
       "      <td>cat</td>\n",
       "      <td>11.875</td>\n",
       "    </tr>\n",
       "    <tr>\n",
       "      <th>1</th>\n",
       "      <td>dog</td>\n",
       "      <td>57.500</td>\n",
       "    </tr>\n",
       "  </tbody>\n",
       "</table>\n",
       "</div>"
      ],
      "text/plain": [
       "  type  weight\n",
       "0  cat  11.875\n",
       "1  dog  57.500"
      ]
     },
     "metadata": {},
     "output_type": "display_data"
    }
   ],
   "source": [
    "# create data frame from dict\n",
    "d = {'date':['2021-08-01', '2022-08-02', '2023-08-03', '2023-03-01', '2023-08-02', '2022-09-03', '2022-09-05', '2021-10-22', '2021-07-23', '2022-08-05', '2023-08-12', '2021-08-13']\n",
    "     , 'weight': [15, 16, 80, 12, 75, 13, 10, 7, 20, 13, 55, 9]\n",
    "     , 'type': ['cat', 'cat', 'dog', 'cat', 'dog', 'cat', 'cat', 'cat', 'dog', 'cat', 'dog', 'cat']}\n",
    "df = pd.DataFrame(d)\n",
    "print(df.shape)\n",
    "# groupby\n",
    "display(df.groupby(['type'])['weight'].mean().reset_index())"
   ]
  },
  {
   "cell_type": "code",
   "execution_count": 3,
   "metadata": {},
   "outputs": [
    {
     "data": {
      "text/html": [
       "<div>\n",
       "<style scoped>\n",
       "    .dataframe tbody tr th:only-of-type {\n",
       "        vertical-align: middle;\n",
       "    }\n",
       "\n",
       "    .dataframe tbody tr th {\n",
       "        vertical-align: top;\n",
       "    }\n",
       "\n",
       "    .dataframe thead th {\n",
       "        text-align: right;\n",
       "    }\n",
       "</style>\n",
       "<table border=\"1\" class=\"dataframe\">\n",
       "  <thead>\n",
       "    <tr style=\"text-align: right;\">\n",
       "      <th></th>\n",
       "      <th>date</th>\n",
       "      <th>weight</th>\n",
       "      <th>type</th>\n",
       "    </tr>\n",
       "  </thead>\n",
       "  <tbody>\n",
       "    <tr>\n",
       "      <th>0</th>\n",
       "      <td>2021-08-01</td>\n",
       "      <td>15</td>\n",
       "      <td>cat</td>\n",
       "    </tr>\n",
       "    <tr>\n",
       "      <th>1</th>\n",
       "      <td>2022-08-02</td>\n",
       "      <td>16</td>\n",
       "      <td>cat</td>\n",
       "    </tr>\n",
       "    <tr>\n",
       "      <th>2</th>\n",
       "      <td>2023-08-03</td>\n",
       "      <td>80</td>\n",
       "      <td>dog</td>\n",
       "    </tr>\n",
       "    <tr>\n",
       "      <th>4</th>\n",
       "      <td>2023-08-02</td>\n",
       "      <td>75</td>\n",
       "      <td>dog</td>\n",
       "    </tr>\n",
       "  </tbody>\n",
       "</table>\n",
       "</div>"
      ],
      "text/plain": [
       "        date  weight type\n",
       "0 2021-08-01      15  cat\n",
       "1 2022-08-02      16  cat\n",
       "2 2023-08-03      80  dog\n",
       "4 2023-08-02      75  dog"
      ]
     },
     "execution_count": 3,
     "metadata": {},
     "output_type": "execute_result"
    }
   ],
   "source": [
    "df['date'] = pd.to_datetime(df['date'], format='%Y-%m-%d')\n",
    "df_august = df[df.date.dt.month.isin([8])]\n",
    "df_august.head(4)"
   ]
  },
  {
   "cell_type": "code",
   "execution_count": 4,
   "metadata": {},
   "outputs": [
    {
     "name": "stdout",
     "output_type": "stream",
     "text": [
      "2021-07-23 00:00:00 2023-08-12 00:00:00\n",
      "2021-07-23 00:00:00\n",
      "2021-08-23 00:00:00\n",
      "2021-09-23 00:00:00\n",
      "2021-10-23 00:00:00\n",
      "2021-11-23 00:00:00\n",
      "2021-12-23 00:00:00\n",
      "2022-01-23 00:00:00\n",
      "2022-02-23 00:00:00\n",
      "2022-03-23 00:00:00\n",
      "2022-04-23 00:00:00\n",
      "2022-05-23 00:00:00\n",
      "2022-06-23 00:00:00\n",
      "2022-07-23 00:00:00\n",
      "2022-08-23 00:00:00\n",
      "2022-09-23 00:00:00\n",
      "2022-10-23 00:00:00\n",
      "2022-11-23 00:00:00\n",
      "2022-12-23 00:00:00\n",
      "2023-01-23 00:00:00\n",
      "2023-02-23 00:00:00\n",
      "2023-03-23 00:00:00\n",
      "2023-04-23 00:00:00\n",
      "2023-05-23 00:00:00\n",
      "2023-06-23 00:00:00\n",
      "2023-07-23 00:00:00\n"
     ]
    }
   ],
   "source": [
    "start_dt = df.date.min()\n",
    "end_dt = df.date.max()\n",
    "print(start_dt, end_dt)\n",
    "for dt in rrule.rrule(rrule.MONTHLY, dtstart = start_dt, until = end_dt):\n",
    "    print(dt)"
   ]
  },
  {
   "cell_type": "code",
   "execution_count": 5,
   "metadata": {},
   "outputs": [
    {
     "data": {
      "text/plain": [
       "[1, 3, 47, 8, 9]"
      ]
     },
     "execution_count": 5,
     "metadata": {},
     "output_type": "execute_result"
    }
   ],
   "source": [
    "# find items that aren't in list when compared with different list\n",
    "lst1 = [1, 2, 3, 47, 8, 9]\n",
    "lst2 = [2, 34, 5, 0, 2, 7, 412]\n",
    "[item for item in lst1 if item not in lst2]"
   ]
  },
  {
   "cell_type": "code",
   "execution_count": 6,
   "metadata": {},
   "outputs": [
    {
     "data": {
      "text/html": [
       "<div>\n",
       "<style scoped>\n",
       "    .dataframe tbody tr th:only-of-type {\n",
       "        vertical-align: middle;\n",
       "    }\n",
       "\n",
       "    .dataframe tbody tr th {\n",
       "        vertical-align: top;\n",
       "    }\n",
       "\n",
       "    .dataframe thead th {\n",
       "        text-align: right;\n",
       "    }\n",
       "</style>\n",
       "<table border=\"1\" class=\"dataframe\">\n",
       "  <thead>\n",
       "    <tr style=\"text-align: right;\">\n",
       "      <th></th>\n",
       "      <th>type</th>\n",
       "      <th>food</th>\n",
       "    </tr>\n",
       "  </thead>\n",
       "  <tbody>\n",
       "    <tr>\n",
       "      <th>0</th>\n",
       "      <td>cat</td>\n",
       "      <td>fancy_feast</td>\n",
       "    </tr>\n",
       "    <tr>\n",
       "      <th>1</th>\n",
       "      <td>dog</td>\n",
       "      <td>alpo</td>\n",
       "    </tr>\n",
       "  </tbody>\n",
       "</table>\n",
       "</div>"
      ],
      "text/plain": [
       "  type         food\n",
       "0  cat  fancy_feast\n",
       "1  dog         alpo"
      ]
     },
     "metadata": {},
     "output_type": "display_data"
    },
    {
     "data": {
      "text/html": [
       "<div>\n",
       "<style scoped>\n",
       "    .dataframe tbody tr th:only-of-type {\n",
       "        vertical-align: middle;\n",
       "    }\n",
       "\n",
       "    .dataframe tbody tr th {\n",
       "        vertical-align: top;\n",
       "    }\n",
       "\n",
       "    .dataframe thead th {\n",
       "        text-align: right;\n",
       "    }\n",
       "</style>\n",
       "<table border=\"1\" class=\"dataframe\">\n",
       "  <thead>\n",
       "    <tr style=\"text-align: right;\">\n",
       "      <th></th>\n",
       "      <th>date</th>\n",
       "      <th>weight</th>\n",
       "      <th>type</th>\n",
       "      <th>food</th>\n",
       "    </tr>\n",
       "  </thead>\n",
       "  <tbody>\n",
       "    <tr>\n",
       "      <th>0</th>\n",
       "      <td>2021-08-01</td>\n",
       "      <td>15</td>\n",
       "      <td>cat</td>\n",
       "      <td>fancy_feast</td>\n",
       "    </tr>\n",
       "    <tr>\n",
       "      <th>1</th>\n",
       "      <td>2022-08-02</td>\n",
       "      <td>16</td>\n",
       "      <td>cat</td>\n",
       "      <td>fancy_feast</td>\n",
       "    </tr>\n",
       "    <tr>\n",
       "      <th>2</th>\n",
       "      <td>2023-08-03</td>\n",
       "      <td>80</td>\n",
       "      <td>dog</td>\n",
       "      <td>alpo</td>\n",
       "    </tr>\n",
       "    <tr>\n",
       "      <th>3</th>\n",
       "      <td>2023-03-01</td>\n",
       "      <td>12</td>\n",
       "      <td>cat</td>\n",
       "      <td>fancy_feast</td>\n",
       "    </tr>\n",
       "    <tr>\n",
       "      <th>4</th>\n",
       "      <td>2023-08-02</td>\n",
       "      <td>75</td>\n",
       "      <td>dog</td>\n",
       "      <td>alpo</td>\n",
       "    </tr>\n",
       "    <tr>\n",
       "      <th>5</th>\n",
       "      <td>2022-09-03</td>\n",
       "      <td>13</td>\n",
       "      <td>cat</td>\n",
       "      <td>fancy_feast</td>\n",
       "    </tr>\n",
       "    <tr>\n",
       "      <th>6</th>\n",
       "      <td>2022-09-05</td>\n",
       "      <td>10</td>\n",
       "      <td>cat</td>\n",
       "      <td>fancy_feast</td>\n",
       "    </tr>\n",
       "    <tr>\n",
       "      <th>7</th>\n",
       "      <td>2021-10-22</td>\n",
       "      <td>7</td>\n",
       "      <td>cat</td>\n",
       "      <td>fancy_feast</td>\n",
       "    </tr>\n",
       "    <tr>\n",
       "      <th>8</th>\n",
       "      <td>2021-07-23</td>\n",
       "      <td>20</td>\n",
       "      <td>dog</td>\n",
       "      <td>alpo</td>\n",
       "    </tr>\n",
       "    <tr>\n",
       "      <th>9</th>\n",
       "      <td>2022-08-05</td>\n",
       "      <td>13</td>\n",
       "      <td>cat</td>\n",
       "      <td>fancy_feast</td>\n",
       "    </tr>\n",
       "    <tr>\n",
       "      <th>10</th>\n",
       "      <td>2023-08-12</td>\n",
       "      <td>55</td>\n",
       "      <td>dog</td>\n",
       "      <td>alpo</td>\n",
       "    </tr>\n",
       "    <tr>\n",
       "      <th>11</th>\n",
       "      <td>2021-08-13</td>\n",
       "      <td>9</td>\n",
       "      <td>cat</td>\n",
       "      <td>fancy_feast</td>\n",
       "    </tr>\n",
       "  </tbody>\n",
       "</table>\n",
       "</div>"
      ],
      "text/plain": [
       "         date  weight type         food\n",
       "0  2021-08-01      15  cat  fancy_feast\n",
       "1  2022-08-02      16  cat  fancy_feast\n",
       "2  2023-08-03      80  dog         alpo\n",
       "3  2023-03-01      12  cat  fancy_feast\n",
       "4  2023-08-02      75  dog         alpo\n",
       "5  2022-09-03      13  cat  fancy_feast\n",
       "6  2022-09-05      10  cat  fancy_feast\n",
       "7  2021-10-22       7  cat  fancy_feast\n",
       "8  2021-07-23      20  dog         alpo\n",
       "9  2022-08-05      13  cat  fancy_feast\n",
       "10 2023-08-12      55  dog         alpo\n",
       "11 2021-08-13       9  cat  fancy_feast"
      ]
     },
     "metadata": {},
     "output_type": "display_data"
    }
   ],
   "source": [
    "# merge data frames on a key\n",
    "d = {'type': ['cat', 'dog'], 'food': ['fancy_feast', 'alpo']}\n",
    "food_df = pd.DataFrame(d)\n",
    "display(food_df)\n",
    "df = df.merge(food_df, how = 'left', on = 'type')\n",
    "display(df)"
   ]
  },
  {
   "cell_type": "code",
   "execution_count": null,
   "metadata": {},
   "outputs": [],
   "source": []
  }
 ],
 "metadata": {
  "kernelspec": {
   "display_name": ".venv",
   "language": "python",
   "name": "python3"
  },
  "language_info": {
   "codemirror_mode": {
    "name": "ipython",
    "version": 3
   },
   "file_extension": ".py",
   "mimetype": "text/x-python",
   "name": "python",
   "nbconvert_exporter": "python",
   "pygments_lexer": "ipython3",
   "version": "3.9.13"
  }
 },
 "nbformat": 4,
 "nbformat_minor": 2
}
